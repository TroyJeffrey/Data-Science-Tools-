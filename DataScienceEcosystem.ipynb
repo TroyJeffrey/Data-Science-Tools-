{
 "cells": [
  {
   "cell_type": "markdown",
   "id": "07d55d64",
   "metadata": {},
   "source": [
    "# Data Science Tools and Ecosystem "
   ]
  },
  {
   "cell_type": "markdown",
   "id": "5be58739",
   "metadata": {},
   "source": [
    "In this notebook, Data Science Tools and Ecosystem are Summarized."
   ]
  },
  {
   "cell_type": "markdown",
   "id": "55f5bd8d",
   "metadata": {},
   "source": [
    "Some of the popular languages Data Scientists use include:"
   ]
  },
  {
   "cell_type": "markdown",
   "id": "98ec694e",
   "metadata": {},
   "source": [
    " 1. Python\n",
    " 2. R\n",
    " 3. C++"
   ]
  },
  {
   "cell_type": "markdown",
   "id": "f8c71f26",
   "metadata": {},
   "source": [
    "Some of the commonly used libraries used by Data Scientists include:"
   ]
  },
  {
   "cell_type": "markdown",
   "id": "06bd47c3",
   "metadata": {},
   "source": [
    " 1. Pandas\n",
    " 2. NumPy\n",
    " 3. PyTorch\n"
   ]
  },
  {
   "cell_type": "markdown",
   "id": "cc885cf9",
   "metadata": {},
   "source": [
    "| Data Science Tools |\n",
    "| ------------------ |\n",
    "| Jupyter Notebook.  |\n",
    "| GitHub.            |\n",
    "| RStudio.           |"
   ]
  },
  {
   "cell_type": "markdown",
   "id": "edbef5ec",
   "metadata": {},
   "source": [
    "### Below are a few examples of evaluating arithmetic expressions in Python"
   ]
  },
  {
   "cell_type": "code",
   "execution_count": 3,
   "id": "28df30c4",
   "metadata": {},
   "outputs": [],
   "source": [
    "# This a simple arithmetic expression to mutiply then add integers."
   ]
  },
  {
   "cell_type": "code",
   "execution_count": 4,
   "id": "839d91d0",
   "metadata": {},
   "outputs": [
    {
     "data": {
      "text/plain": [
       "17"
      ]
     },
     "execution_count": 4,
     "metadata": {},
     "output_type": "execute_result"
    }
   ],
   "source": [
    "(3*4)+5"
   ]
  },
  {
   "cell_type": "code",
   "execution_count": 5,
   "id": "e86f47a6",
   "metadata": {},
   "outputs": [],
   "source": [
    "# This will convert 200 minutes to hours by diving by 60."
   ]
  },
  {
   "cell_type": "code",
   "execution_count": 12,
   "id": "2ce82e17",
   "metadata": {},
   "outputs": [
    {
     "name": "stdout",
     "output_type": "stream",
     "text": [
      "3.3333333333333335 hours\n"
     ]
    }
   ],
   "source": [
    "x = 200/60\n",
    "print(x,\"hours\")"
   ]
  },
  {
   "cell_type": "markdown",
   "id": "0de7879a",
   "metadata": {},
   "source": [
    "**Objectives:**"
   ]
  },
  {
   "cell_type": "markdown",
   "id": "c4c3e7c8",
   "metadata": {},
   "source": [
    "- List popular languages for Data Scientists \n",
    "- List common libraries for Data Scientists \n",
    "- List common data science tools\n"
   ]
  },
  {
   "cell_type": "markdown",
   "id": "e961e426",
   "metadata": {},
   "source": [
    "## Author"
   ]
  },
  {
   "cell_type": "markdown",
   "id": "25c91429",
   "metadata": {},
   "source": [
    "Troy J.A"
   ]
  },
  {
   "cell_type": "code",
   "execution_count": null,
   "id": "25d95a9f",
   "metadata": {},
   "outputs": [],
   "source": []
  }
 ],
 "metadata": {
  "kernelspec": {
   "display_name": "Python 3 (ipykernel)",
   "language": "python",
   "name": "python3"
  },
  "language_info": {
   "codemirror_mode": {
    "name": "ipython",
    "version": 3
   },
   "file_extension": ".py",
   "mimetype": "text/x-python",
   "name": "python",
   "nbconvert_exporter": "python",
   "pygments_lexer": "ipython3",
   "version": "3.10.9"
  }
 },
 "nbformat": 4,
 "nbformat_minor": 5
}
